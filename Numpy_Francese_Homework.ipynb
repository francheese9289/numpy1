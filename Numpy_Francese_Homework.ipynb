{
 "cells": [
  {
   "cell_type": "markdown",
   "metadata": {
    "id": "KdERlTpFuL5V"
   },
   "source": [
    "# Exercises"
   ]
  },
  {
   "cell_type": "markdown",
   "metadata": {
    "id": "to-gsrQyuL5Z"
   },
   "source": [
    "### #1 - Calculate the BMI (body mass index) on the two lists below using NDArrays..."
   ]
  },
  {
   "cell_type": "code",
   "execution_count": 44,
   "metadata": {
    "id": "iZlf9DzeuL5a"
   },
   "outputs": [
    {
     "name": "stdout",
     "output_type": "stream",
     "text": [
      "[16, 17, 18, 19, 20, 21, 22]\n"
     ]
    }
   ],
   "source": [
    "import numpy as np\n",
    "# formula = weight / (height**2) * 730\n",
    "height = np.array([69, 70, 71, 72, 73, 74, 75])\n",
    "weight = np.array([110, 120, 130, 140, 150, 160, 170])\n",
    "\n",
    "height_arr = height**2\n",
    "wdivh = weight/height_arr\n",
    "bmi = []\n",
    "for wh in wdivh:\n",
    "    bmi.append(wh*730)\n",
    "    bmi = [int(x) for x in bmi]\n",
    "    \n",
    "print(bmi)\n",
    "    \n"
   ]
  },
  {
   "cell_type": "markdown",
   "metadata": {
    "id": "RSsT8w8ouL5b"
   },
   "source": [
    "### #2 - Create a function that will take in two parameters and will create a random matrix based off of those parameters. Extra: Have additional parameters taken in that allow the user to choose the shape and data type of the matrix."
   ]
  },
  {
   "cell_type": "code",
   "execution_count": 47,
   "metadata": {
    "id": "ygFvj0aeuL5b"
   },
   "outputs": [
    {
     "name": "stdout",
     "output_type": "stream",
     "text": [
      "Number of rows: 2\n",
      "Number of columns: 4\n",
      "Data type: float\n"
     ]
    },
    {
     "data": {
      "text/plain": [
       "array([[5.3334061 , 4.93163136, 4.19365829, 4.3938381 ],\n",
       "       [5.19167991, 5.82116811, 5.55995611, 4.0585021 ]])"
      ]
     },
     "execution_count": 47,
     "metadata": {},
     "output_type": "execute_result"
    }
   ],
   "source": [
    "def rando_matrix(x,y):\n",
    "    r = int(input('Number of rows: '))\n",
    "    c = int(input('Number of columns: '))\n",
    "    m_type = input('Data type: ')\n",
    "    \n",
    "    m = np.random.uniform(x,y,(r,c))\n",
    "    new_type = m.astype(m_type)\n",
    "    return m\n",
    "\n",
    "rando_matrix(4,6)\n",
    "   \n"
   ]
  },
  {
   "cell_type": "markdown",
   "metadata": {
    "id": "e5mP1UX9uL5c"
   },
   "source": [
    "### #3 - Extra: Open and load the data in the two text files that have the Boston Red Sox hitting data for the past seasons. Compare the difference in the two years by putting the data into an NDArray and running a differencial operation on it. The column to look for will be SLG.\n",
    "\n",
    "Your output should display which year (either 2017 or 2018) was a better year based on SLG"
   ]
  },
  {
   "cell_type": "code",
   "execution_count": 52,
   "metadata": {
    "id": "iAExC-SjuL5c"
   },
   "outputs": [
    {
     "name": "stdout",
     "output_type": "stream",
     "text": [
      "<_csv.reader object at 0x00000185B53D90C0>\n",
      "<_csv.reader object at 0x00000185B540D5A0>\n"
     ]
    }
   ],
   "source": [
    "import csv\n",
    "import numpy as np\n",
    "def open_csv(filename, d=','):\n",
    "    # define an empty list to store data\n",
    "    data = []\n",
    "    \n",
    "    # use the 'with' keyword to load from csv and store into data\n",
    "    with open(filename, encoding='utf-8-sig') as mData:\n",
    "        # use reader method in csv package to create python list\n",
    "        info = csv.reader(mData, delimiter = d)\n",
    "        print(info)\n",
    "        \n",
    "        # loop over info and append to data\n",
    "        for row in info:\n",
    "            data.append(row)\n",
    "        \n",
    "    # no need to close file, using with statement closes automatically\n",
    "    return data\n",
    "\n",
    "csv_data = open_csv('redsox_2017_hitting.txt')\n",
    "csv_data = open_csv('redsox_2018_hitting.txt')\n",
    "\n",
    "\n"
   ]
  },
  {
   "cell_type": "code",
   "execution_count": 88,
   "metadata": {
    "id": "P8Rwr8lmuL5e",
    "scrolled": true
   },
   "outputs": [
    {
     "name": "stdout",
     "output_type": "stream",
     "text": [
      "Redsox average slugging percentage in 2017: 0.39334782374941785\n",
      "Redsox average slugging percentage in 2017: 0.38750000335276125\n",
      "Redsox difference slugging percentage from 2017 - 2018: 0.0058478203966566\n"
     ]
    }
   ],
   "source": [
    "FIELDS = ['Rk', 'Pos', 'Name', 'Age', 'G', 'PA', 'AB', 'R', 'H', '2B', '3B', 'HR', 'RBI', 'SB', 'CS', \n",
    "          'BB', 'SO', 'BA', 'OBP', 'SLG', 'OPS', 'OPS+', 'TB', 'GDP', 'HBP', 'SH', 'SF', 'IBB']\n",
    "\n",
    "DATATYPES = [('rk', 'i'), ('pos', '|S25'), ('name', '|S25'), ('age', 'i'), ('g', 'i'), ('pa', 'i'), ('ab', 'i'),\n",
    "                ('r', 'i'), ('h', 'i'), ('2b', 'i'), ('3b', 'i'), ('hr', 'i'), ('rbi', 'i'), ('sb', 'i'), ('cs', 'i'),\n",
    "                ('bb', 'i'), ('so', 'i'), ('ba', 'f'), ('obp', 'f'), ('slg', 'f'), ('ops', 'f'), ('opsp', 'i'),\n",
    "                ('tb', 'i'), ('gdp', 'i'), ('hbp', 'i'), ('sh', 'i'), ('sf', 'i'), ('ibb', 'i')]\n",
    "\n",
    "#Use this function to actually open the data inside of a NDArray\n",
    "def load_data(filename, d = ','):\n",
    "    data = np.genfromtxt(filename,delimiter = d, skip_header = 1,\n",
    "                        usecols = np.arange(0,24),invalid_raise=False,\n",
    "                        names = FIELDS, dtype = DATATYPES)\n",
    "    return data\n",
    "\n",
    "bs2017 = load_data('redsox_2017_hitting.txt')\n",
    "bs2018 = load_data('redsox_2018_hitting.txt')\n",
    "\n",
    "#Compare the difference in the two years by putting the data into an NDArray \n",
    "#and running a differencial operation on it. The column to look for will be SLG\n",
    "arr17 = np.array(bs2017['SLG'])\n",
    "arr18 = np.array(bs2018['SLG'])\n",
    "\n",
    "len1 = len(arr17)\n",
    "len2 = len(arr18)\n",
    "avg17 = (sum(arr17)/len1)\n",
    "avg18 = (sum(arr18)/len2)\n",
    "diff = avg17-avg18\n",
    "\n",
    "print ('Redsox average slugging percentage in 2017: {}'.format(sum(arr17)/len1))\n",
    "print ('Redsox average slugging percentage in 2017: {}'.format(sum(arr18)/len2))\n",
    "print ('Redsox difference slugging percentage from 2017 - 2018: {}'.format(diff))"
   ]
  }
 ],
 "metadata": {
  "colab": {
   "name": "Copy of Data_Science_Day_1_Exercises-Day1- Homework.ipynb",
   "provenance": []
  },
  "kernelspec": {
   "display_name": "Python 3 (ipykernel)",
   "language": "python",
   "name": "python3"
  },
  "language_info": {
   "codemirror_mode": {
    "name": "ipython",
    "version": 3
   },
   "file_extension": ".py",
   "mimetype": "text/x-python",
   "name": "python",
   "nbconvert_exporter": "python",
   "pygments_lexer": "ipython3",
   "version": "3.10.9"
  }
 },
 "nbformat": 4,
 "nbformat_minor": 1
}
